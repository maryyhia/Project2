{
 "cells": [
  {
   "cell_type": "markdown",
   "id": "d1eb1031",
   "metadata": {},
   "source": [
    "# PROJECT 2 : Part 3\n",
    "## Ames Housing Data and Kaggle Challenge"
   ]
  },
  {
   "cell_type": "markdown",
   "id": "4285c339",
   "metadata": {},
   "source": [
    "### Model Preparation, Training, Selection, and Testing\n",
    "This notebook will focus on the above listed. This is a continuation from Part 2 where features were analysed and then selected for model training in predicting SalePrice. "
   ]
  },
  {
   "cell_type": "code",
   "execution_count": 1,
   "id": "0fb7cca8",
   "metadata": {},
   "outputs": [],
   "source": [
    "# Import Libraries\n",
    "\n",
    "import pandas as pd\n",
    "import numpy as np\n",
    "import matplotlib.pyplot as plt\n",
    "import statistics as stats\n",
    "import warnings\n",
    "warnings.filterwarnings('ignore')\n",
    "%matplotlib inline\n",
    "\n",
    "from sklearn.linear_model import LinearRegression, LassoCV, RidgeCV\n",
    "from sklearn.preprocessing import StandardScaler\n",
    "from sklearn.model_selection import train_test_split, cross_val_score, cross_val_predict\n",
    "from sklearn.metrics import r2_score, mean_squared_error\n",
    "from sklearn.dummy import DummyRegressor"
   ]
  },
  {
   "cell_type": "markdown",
   "id": "a60b1d9e",
   "metadata": {},
   "source": [
    "A toal of 7 features have been selected for the model training process."
   ]
  },
  {
   "cell_type": "code",
   "execution_count": 2,
   "id": "21958a0e",
   "metadata": {},
   "outputs": [],
   "source": [
    "# Load data\n",
    "train_feat = pd.read_csv('datasets/train_feat.csv')\n"
   ]
  },
  {
   "cell_type": "markdown",
   "id": "b1a30d5c",
   "metadata": {},
   "source": [
    "#### Model prep: Create features matrix (X) and target vector (y)"
   ]
  },
  {
   "cell_type": "code",
   "execution_count": 3,
   "id": "ad5c0829",
   "metadata": {},
   "outputs": [],
   "source": [
    "# Define X and y\n",
    "X = train_feat.loc[:, train_feat.columns != 'SalePrice']\n",
    "y = train_feat['SalePrice']"
   ]
  },
  {
   "cell_type": "markdown",
   "id": "ffc8c5ed",
   "metadata": {},
   "source": [
    "####  Model prep: Train/ Test split"
   ]
  },
  {
   "cell_type": "code",
   "execution_count": 4,
   "id": "cdad975e",
   "metadata": {},
   "outputs": [],
   "source": [
    "# Train/Test Split\n",
    "X_train, X_test, y_train, y_test = train_test_split(X, y, random_state=10) #train_size=0.7"
   ]
  },
  {
   "cell_type": "markdown",
   "id": "54e51cc0",
   "metadata": {},
   "source": [
    "#### Model prep: Scaling"
   ]
  },
  {
   "cell_type": "code",
   "execution_count": 5,
   "id": "b84812e9",
   "metadata": {},
   "outputs": [],
   "source": [
    "# Scale X_train and transform bot X_train and X_test\n",
    "\n",
    "ss= StandardScaler()\n",
    "ss.fit(X_train)\n",
    "X_train_sc = ss.transform(X_train)\n",
    "X_test_sc = ss.transform(X_test)"
   ]
  },
  {
   "cell_type": "markdown",
   "id": "da0ec2c6",
   "metadata": {},
   "source": [
    "#### Model prep: Instantiate models"
   ]
  },
  {
   "cell_type": "code",
   "execution_count": 6,
   "id": "c4886cdb",
   "metadata": {},
   "outputs": [],
   "source": [
    "# Set lasso and ridge\n",
    "lr = LinearRegression()\n",
    "lasso = LassoCV(n_alphas=200)\n",
    "ridge = RidgeCV(alphas=np.linspace(.1, 10, 100))"
   ]
  },
  {
   "cell_type": "markdown",
   "id": "eed022ea",
   "metadata": {},
   "source": [
    "#### Cross validation"
   ]
  },
  {
   "cell_type": "code",
   "execution_count": 7,
   "id": "72a67847",
   "metadata": {},
   "outputs": [
    {
     "data": {
      "text/plain": [
       "0.7669461904380771"
      ]
     },
     "execution_count": 7,
     "metadata": {},
     "output_type": "execute_result"
    }
   ],
   "source": [
    "# Cross val score for lr fitted to train data\n",
    "lr_scores = cross_val_score(lr, X_train_sc, y_train, cv=3)\n",
    "lr_scores.mean()"
   ]
  },
  {
   "cell_type": "code",
   "execution_count": 8,
   "id": "ebe50a17",
   "metadata": {},
   "outputs": [
    {
     "data": {
      "text/plain": [
       "0.7679337571497946"
      ]
     },
     "execution_count": 8,
     "metadata": {},
     "output_type": "execute_result"
    }
   ],
   "source": [
    "# Cross val score for LassoCV fitted to train data\n",
    "lasso_scores = cross_val_score(lasso, X_train_sc, y_train, cv=3)\n",
    "lasso_scores.mean()"
   ]
  },
  {
   "cell_type": "code",
   "execution_count": 9,
   "id": "a41338fd",
   "metadata": {},
   "outputs": [
    {
     "data": {
      "text/plain": [
       "0.7673676710872562"
      ]
     },
     "execution_count": 9,
     "metadata": {},
     "output_type": "execute_result"
    }
   ],
   "source": [
    "#Cross val score for RidgeCV fitted to train data\n",
    "ridge_scores = cross_val_score(ridge, X_train_sc, y_train, cv=3)\n",
    "ridge_scores.mean()"
   ]
  },
  {
   "cell_type": "markdown",
   "id": "611668c2",
   "metadata": {},
   "source": [
    "All 3 models returned results that are very close, with the lasso model scoring the highest. "
   ]
  },
  {
   "cell_type": "markdown",
   "id": "42f826b7",
   "metadata": {},
   "source": [
    "#### Establish Null model"
   ]
  },
  {
   "cell_type": "code",
   "execution_count": 10,
   "id": "fc2194e3",
   "metadata": {},
   "outputs": [],
   "source": [
    "dummy_regr= DummyRegressor(strategy='mean')"
   ]
  },
  {
   "cell_type": "code",
   "execution_count": 11,
   "id": "f8b9dbef",
   "metadata": {},
   "outputs": [
    {
     "data": {
      "text/plain": [
       "DummyRegressor()"
      ]
     },
     "execution_count": 11,
     "metadata": {},
     "output_type": "execute_result"
    }
   ],
   "source": [
    "dummy_regr.fit(X,y)"
   ]
  },
  {
   "cell_type": "code",
   "execution_count": 12,
   "id": "e7204e75",
   "metadata": {},
   "outputs": [
    {
     "data": {
      "text/plain": [
       "array([181484.25244141, 181484.25244141, 181484.25244141, ...,\n",
       "       181484.25244141, 181484.25244141, 181484.25244141])"
      ]
     },
     "execution_count": 12,
     "metadata": {},
     "output_type": "execute_result"
    }
   ],
   "source": [
    "dummy_regr.predict(X)"
   ]
  },
  {
   "cell_type": "code",
   "execution_count": 13,
   "id": "f5126e23",
   "metadata": {},
   "outputs": [
    {
     "data": {
      "text/plain": [
       "0.0"
      ]
     },
     "execution_count": 13,
     "metadata": {},
     "output_type": "execute_result"
    }
   ],
   "source": [
    "dummy_regr.score(X,y)"
   ]
  },
  {
   "cell_type": "markdown",
   "id": "d01e1830",
   "metadata": {},
   "source": [
    "### Model Fitting and Evaluation"
   ]
  },
  {
   "cell_type": "code",
   "execution_count": 14,
   "id": "62561a08",
   "metadata": {},
   "outputs": [
    {
     "data": {
      "text/plain": [
       "LassoCV(n_alphas=200)"
      ]
     },
     "execution_count": 14,
     "metadata": {},
     "output_type": "execute_result"
    }
   ],
   "source": [
    "lasso.fit(X_train_sc, y_train)"
   ]
  },
  {
   "cell_type": "code",
   "execution_count": 15,
   "id": "7ae45cc9",
   "metadata": {},
   "outputs": [
    {
     "data": {
      "text/plain": [
       "0.7793606892663202"
      ]
     },
     "execution_count": 15,
     "metadata": {},
     "output_type": "execute_result"
    }
   ],
   "source": [
    "lasso.score(X_train_sc, y_train)"
   ]
  },
  {
   "cell_type": "code",
   "execution_count": 16,
   "id": "9098458d",
   "metadata": {},
   "outputs": [
    {
     "data": {
      "text/plain": [
       "0.8002952648735654"
      ]
     },
     "execution_count": 16,
     "metadata": {},
     "output_type": "execute_result"
    }
   ],
   "source": [
    "lasso.score(X_test_sc,y_test)"
   ]
  },
  {
   "cell_type": "code",
   "execution_count": 17,
   "id": "ea17a4b6",
   "metadata": {},
   "outputs": [
    {
     "data": {
      "text/plain": [
       "0.7679337571497946"
      ]
     },
     "execution_count": 17,
     "metadata": {},
     "output_type": "execute_result"
    }
   ],
   "source": [
    "lasso_scores.mean()"
   ]
  },
  {
   "cell_type": "code",
   "execution_count": 18,
   "id": "cb6eac51",
   "metadata": {},
   "outputs": [],
   "source": [
    "pred = lasso.predict(X_test_sc)"
   ]
  },
  {
   "cell_type": "code",
   "execution_count": 19,
   "id": "94638dc1",
   "metadata": {},
   "outputs": [
    {
     "data": {
      "text/plain": [
       "0.8002952648735654"
      ]
     },
     "execution_count": 19,
     "metadata": {},
     "output_type": "execute_result"
    }
   ],
   "source": [
    "r2_score(y_test, pred)"
   ]
  },
  {
   "cell_type": "code",
   "execution_count": 20,
   "id": "8f35a91c",
   "metadata": {},
   "outputs": [],
   "source": [
    "# Create df for strong coefficients and their corresponding variable names\n",
    "coefficient_df = pd.DataFrame()"
   ]
  },
  {
   "cell_type": "code",
   "execution_count": 21,
   "id": "cd36c5b0",
   "metadata": {},
   "outputs": [],
   "source": [
    "# Sorting all the column names of the predictors\n",
    "coefficient_df['Column_Name'] = X_train.columns"
   ]
  },
  {
   "cell_type": "code",
   "execution_count": 22,
   "id": "aad0be6e",
   "metadata": {},
   "outputs": [],
   "source": [
    "# Store coefficients of predictors\n",
    "coefficient_df['Coefficient_Value'] = pd.Series(lasso.coef_)"
   ]
  },
  {
   "cell_type": "code",
   "execution_count": 23,
   "id": "9dcc4cb3",
   "metadata": {},
   "outputs": [
    {
     "name": "stdout",
     "output_type": "stream",
     "text": [
      "     Column_Name  Coefficient_Value\n",
      "0   Overall Qual       29721.465031\n",
      "1    Gr Liv Area       18810.707887\n",
      "2    Garage Area        6087.543338\n",
      "3    Garage Cars        7610.257795\n",
      "4  Total Bsmt SF           0.000000\n",
      "5     1st Flr SF       11369.057118\n",
      "6      Bsmt Qual       11970.863787\n"
     ]
    }
   ],
   "source": [
    "# Preview variables' coefficient values\n",
    "print(coefficient_df)"
   ]
  },
  {
   "cell_type": "code",
   "execution_count": 24,
   "id": "fa4dafc3",
   "metadata": {},
   "outputs": [
    {
     "data": {
      "image/png": "[encoded data removed]",
      "text/plain": [
       "<Figure size 1080x432 with 1 Axes>"
      ]
     },
     "metadata": {
      "needs_background": "light"
     },
     "output_type": "display_data"
    }
   ],
   "source": [
    "# Plot the coefficient values\n",
    "plt.rcParams['figure.figsize'] = (15,6)\n",
    "plt.bar(coefficient_df['Column_Name'], coefficient_df['Coefficient_Value']);"
   ]
  },
  {
   "cell_type": "markdown",
   "id": "a529fb2e",
   "metadata": {},
   "source": [
    "The final test scored returned a 0.8. From the bar graph above, it is clear to see which variable was shrunk by the Lasso Regression as it was weak. Total Bsmt SF can br dropped to improve model performance in the next run. "
   ]
  },
  {
   "cell_type": "markdown",
   "id": "ab1f10b9",
   "metadata": {},
   "source": [
    "Null model indicates a baseline where the model must score better with. The current lasso regression model score is at 0.80, which is better than the null model's score. "
   ]
  },
  {
   "cell_type": "markdown",
   "id": "3d4300ba",
   "metadata": {},
   "source": [
    "## Test Data\n",
    "Load, clean, transform and test against model with the test.csv data"
   ]
  },
  {
   "cell_type": "code",
   "execution_count": 25,
   "id": "3a070ad1",
   "metadata": {},
   "outputs": [],
   "source": [
    "# Load data\n",
    "testdf = pd.read_csv('datasets/test.csv')"
   ]
  },
  {
   "cell_type": "markdown",
   "id": "7c0c1439",
   "metadata": {},
   "source": [
    "As the features need to be consistent, narrowing the test data to just the selected features from the train data would be more efficient. "
   ]
  },
  {
   "cell_type": "code",
   "execution_count": 26,
   "id": "706d197e",
   "metadata": {},
   "outputs": [],
   "source": [
    "features = [ 'Overall Qual', 'Gr Liv Area', 'Garage Area', 'Garage Cars', 'Total Bsmt SF', '1st Flr SF', 'Bsmt Qual']"
   ]
  },
  {
   "cell_type": "code",
   "execution_count": 27,
   "id": "5282c1c2",
   "metadata": {},
   "outputs": [],
   "source": [
    "test_feat = testdf.loc[:,features]"
   ]
  },
  {
   "cell_type": "code",
   "execution_count": 28,
   "id": "24b5378c",
   "metadata": {},
   "outputs": [
    {
     "data": {
      "text/html": [
       "<div>\n",
       "<style scoped>\n",
       "    .dataframe tbody tr th:only-of-type {\n",
       "        vertical-align: middle;\n",
       "    }\n",
       "\n",
       "    .dataframe tbody tr th {\n",
       "        vertical-align: top;\n",
       "    }\n",
       "\n",
       "    .dataframe thead th {\n",
       "        text-align: right;\n",
       "    }\n",
       "</style>\n",
       "<table border=\"1\" class=\"dataframe\">\n",
       "  <thead>\n",
       "    <tr style=\"text-align: right;\">\n",
       "      <th></th>\n",
       "      <th>missing_value_count</th>\n",
       "      <th>% of dataset</th>\n",
       "    </tr>\n",
       "  </thead>\n",
       "  <tbody>\n",
       "    <tr>\n",
       "      <th>Bsmt Qual</th>\n",
       "      <td>25</td>\n",
       "      <td>2.85</td>\n",
       "    </tr>\n",
       "  </tbody>\n",
       "</table>\n",
       "</div>"
      ],
      "text/plain": [
       "           missing_value_count  % of dataset\n",
       "Bsmt Qual                   25          2.85"
      ]
     },
     "execution_count": 28,
     "metadata": {},
     "output_type": "execute_result"
    }
   ],
   "source": [
    "# Check for null values\n",
    "null_stats = pd.DataFrame(test_feat.isnull().sum(), columns = ['missing_value_count'])\n",
    "null_stats.loc[:,'% of dataset'] = np.round(null_stats.loc[:,'missing_value_count']/test_feat.shape[0]*100,2)\n",
    "null_stats.loc[null_stats.loc[:,'missing_value_count']>0,:].sort_values(by='missing_value_count',ascending=False)"
   ]
  },
  {
   "cell_type": "code",
   "execution_count": 29,
   "id": "2a0568e9",
   "metadata": {},
   "outputs": [
    {
     "data": {
      "text/plain": [
       "TA    396\n",
       "Gd    355\n",
       "Ex     73\n",
       "Fa     28\n",
       "Po      1\n",
       "Name: Bsmt Qual, dtype: int64"
      ]
     },
     "execution_count": 29,
     "metadata": {},
     "output_type": "execute_result"
    }
   ],
   "source": [
    "# Investigate the types of value under each object-type columns\n",
    "test_feat['Bsmt Qual'].value_counts()"
   ]
  },
  {
   "cell_type": "markdown",
   "id": "2ef44f42",
   "metadata": {},
   "source": [
    "Bsmt Qual, being a ordinal data type, will have its missing values replaced with the same rating values used in the train data set. "
   ]
  },
  {
   "cell_type": "code",
   "execution_count": 30,
   "id": "8f0630f3",
   "metadata": {},
   "outputs": [],
   "source": [
    "# Replace Bsmt Qual values with appropriate rating values.\n",
    "replace = {'Ex':5, 'Gd':4, 'TA':3, 'Fa':2, 'Po':1, np.NaN :0}\n",
    "test_feat['Bsmt Qual'] = test_feat['Bsmt Qual'].map(replace)"
   ]
  },
  {
   "cell_type": "code",
   "execution_count": 31,
   "id": "0ad5ff23",
   "metadata": {
    "scrolled": true
   },
   "outputs": [
    {
     "data": {
      "text/html": [
       "<div>\n",
       "<style scoped>\n",
       "    .dataframe tbody tr th:only-of-type {\n",
       "        vertical-align: middle;\n",
       "    }\n",
       "\n",
       "    .dataframe tbody tr th {\n",
       "        vertical-align: top;\n",
       "    }\n",
       "\n",
       "    .dataframe thead th {\n",
       "        text-align: right;\n",
       "    }\n",
       "</style>\n",
       "<table border=\"1\" class=\"dataframe\">\n",
       "  <thead>\n",
       "    <tr style=\"text-align: right;\">\n",
       "      <th></th>\n",
       "      <th>missing_value_count</th>\n",
       "      <th>% of dataset</th>\n",
       "    </tr>\n",
       "  </thead>\n",
       "  <tbody>\n",
       "  </tbody>\n",
       "</table>\n",
       "</div>"
      ],
      "text/plain": [
       "Empty DataFrame\n",
       "Columns: [missing_value_count, % of dataset]\n",
       "Index: []"
      ]
     },
     "execution_count": 31,
     "metadata": {},
     "output_type": "execute_result"
    }
   ],
   "source": [
    "# Check for null values\n",
    "null_stats = pd.DataFrame(test_feat.isnull().sum(), columns = ['missing_value_count'])\n",
    "null_stats.loc[:,'% of dataset'] = np.round(null_stats.loc[:,'missing_value_count']/test_feat.shape[0]*100,2)\n",
    "null_stats.loc[null_stats.loc[:,'missing_value_count']>0,:].sort_values(by='missing_value_count',ascending=False)"
   ]
  },
  {
   "cell_type": "markdown",
   "id": "0c6c8a19",
   "metadata": {},
   "source": [
    "The data is cleaned and the features are selected. "
   ]
  },
  {
   "cell_type": "markdown",
   "id": "75d5823d",
   "metadata": {},
   "source": [
    "#### Predict with trained model"
   ]
  },
  {
   "cell_type": "code",
   "execution_count": 32,
   "id": "997fba00",
   "metadata": {},
   "outputs": [],
   "source": [
    "# Define X variable\n",
    "testX = test_feat"
   ]
  },
  {
   "cell_type": "code",
   "execution_count": 33,
   "id": "c5f85d9e",
   "metadata": {},
   "outputs": [],
   "source": [
    "# Scale it\n",
    "testX = ss.transform(testX)"
   ]
  },
  {
   "cell_type": "code",
   "execution_count": 34,
   "id": "a161c6c0",
   "metadata": {},
   "outputs": [],
   "source": [
    "# Predict using model\n",
    "pred = lasso.predict(testX)"
   ]
  },
  {
   "cell_type": "code",
   "execution_count": 35,
   "id": "b13bccd5",
   "metadata": {},
   "outputs": [
    {
     "data": {
      "text/plain": [
       "array([158596.27308318, 210462.30903786, 192642.4253383 , 127914.90206092,\n",
       "       191441.79559527,  83975.55551688, 100387.60252137, 144689.86136349,\n",
       "       209242.33865628, 169248.10073169, 178838.96886365, 149024.03532932,\n",
       "       174992.5717755 , 300352.76614988, 165629.49365782,  95899.38077675,\n",
       "       173896.70235779, 120863.77697352, 200467.48104718, 216584.48258663,\n",
       "       118005.53198444, 128195.8558009 , 206784.11609521, 151844.08102117,\n",
       "       202419.29480628, 107334.3363389 , 131750.81821876, 130524.73437247,\n",
       "       154514.19581187,  26048.45233534,  95508.72176195, 114270.4966667 ,\n",
       "       273673.69520722, 154076.33401373, 221517.10868962, 190400.30773114,\n",
       "       118976.73799586,  68267.62120529, 122183.99182124, 213108.01407112,\n",
       "       162939.24459983, 215848.32059631, 155846.91821703, 138629.0165767 ,\n",
       "       219377.86565633,  82519.0658291 , 216099.27057491, 112555.4802278 ,\n",
       "       110858.77321111, 117761.3443978 , 117674.64164137, 235599.74412804,\n",
       "       267898.89398324, 122651.24146559, 115660.91355317, 151515.56920975,\n",
       "       189597.28632269, 142955.15597167, 185372.30336666, 237755.16787853,\n",
       "       295959.35460606, 137050.20876597, 126645.25338546, 205475.70763196,\n",
       "       181628.81485537, 296236.25027393,  65981.36270586, 188670.8829318 ,\n",
       "        39514.8107085 , 152523.72804329,  80331.53447586, 305837.47514639,\n",
       "       190948.46459983, 195029.12259134, 132615.51853105, 212374.97919358,\n",
       "       136928.95695373, 148482.41291212,  66698.77335904, 311765.49246778,\n",
       "       217017.87960038, 141196.3644398 , 120348.34211932, 133384.60720859,\n",
       "       182630.55674588, 324625.73728563, 121922.80560095, 185988.73573781,\n",
       "       253913.1585714 , 174112.4725373 , 113785.87219216,  90119.90115971,\n",
       "       151904.54110537, 221009.77258598, 115179.07825978, 159531.35262834,\n",
       "       149288.37033286, 247065.11637212, 188975.67827697, 226995.98266877,\n",
       "       256784.62989288, 205073.52421085, 108741.68555574, 377683.13241797,\n",
       "       152990.57104687,  87403.72806679, 172717.92419609, 211714.83543895,\n",
       "       214794.32691767, 130626.59670429, 181103.41945623, 243700.6120681 ,\n",
       "        81558.3580267 , 118981.64423765, 218970.28162136, 403283.12742964,\n",
       "       180342.31842648, 129596.63378271, 308638.42139896, 171214.48721855,\n",
       "       352869.54405603, 263826.1243038 , 288832.48529231, 173433.16653128,\n",
       "       142879.91079652, 327267.38572696, 105509.94905594, 113699.06485221,\n",
       "       112041.06339488, 286569.49395779, 141954.67232464, 186430.99987621,\n",
       "       138514.2068983 , 144692.92226142, 176819.30979169, 219453.83497746,\n",
       "       213267.97268993, 195516.72361959, 188670.8829318 , 115032.29766766,\n",
       "       181804.65857795, 118345.02622787, 143977.06294234, 182817.55483526,\n",
       "        59225.33151064, 162685.78744641, 183911.83375811, 154912.68901863,\n",
       "        56737.16968109, 236038.67464666, 210665.76374244, 159863.13307142,\n",
       "       127163.51807727, 107899.30062056,  99362.95546447, 120242.56478969,\n",
       "        65793.60487673, 131949.71391676, 258519.91644035, 267270.19360805,\n",
       "       197841.47609021, 114005.62379092, 117454.9879643 , 390453.12789917,\n",
       "       272335.93220769, 261425.96695249, 174625.32527302, 193611.87967004,\n",
       "       235334.70976961, 214463.84240136, 452058.92079804, 142767.3572794 ,\n",
       "       168574.75158584, 179776.22444085, 219301.93873422, 179822.38733148,\n",
       "        78583.05574805, 196046.37363433,  83975.55551688, 131624.35833116,\n",
       "       118275.67639781, 211569.40516834, 231618.27025086, 195021.53269201,\n",
       "       187495.25916962, 136201.84188615, 195726.16437047, 215225.24613966,\n",
       "       126430.86847875,  45730.60699993, 206700.34987211, 123280.57420996,\n",
       "       124305.12593898, 118560.17236938, 173785.17555561, 158196.76672299,\n",
       "       259088.37936599, 130413.57598967, 138070.00450039, 158870.0776471 ,\n",
       "       317269.24854109, 218450.3859551 , 132415.59924039, 186910.60587618,\n",
       "       146613.26306612,  69914.95597883, 176715.55047135, 134398.52998524,\n",
       "       230776.50970644, 211723.55669395, 188803.78453443, 183921.71152322,\n",
       "       100784.81440008, 254914.79079301, 264079.2620137 , 209162.18979185,\n",
       "       241470.43858359, 161135.38112545,  81630.26844589, 117134.21126928,\n",
       "       194679.92511014, 157383.51848991, 180441.8212907 , 173990.91000009,\n",
       "       139063.77205143, 122554.23601636, 267399.27701771, 234122.40057048,\n",
       "       133197.25263977, 265387.14361164, 130677.5397372 ,  64241.09872557,\n",
       "       128515.99232606,  80156.85197389, 291430.14051691, 172118.87938057,\n",
       "       102130.0958267 , 347682.83466302, 320978.58637749, 221569.62258322,\n",
       "       248761.46353263, 183171.79340374, 279526.19486873, 253337.80257151,\n",
       "       325566.33755427, 270459.28185565, 120304.02223324,  99717.55052262,\n",
       "       194105.25050678, 301970.57632518, 248014.64985346, 161948.38614002,\n",
       "       248128.13232395, 227643.86425475, 194403.84655796,  70156.26562232,\n",
       "        74679.53794062, 346215.50257039, 220323.48885109, 235276.90491124,\n",
       "       189619.30617449, 149463.09869084, 133493.94955768, 157596.62165312,\n",
       "       232071.2682115 , 181105.53005865, 135547.87992151, 212945.07195121,\n",
       "       175300.21739507, 170383.93983151, 207675.14270054, 204290.04349554,\n",
       "       189746.01514209, 337795.70094615, 102857.5134521 , 141662.39423834,\n",
       "       152523.72804329, 175181.93836285,  91337.32133976, 122974.84842725,\n",
       "       252509.80352178, 151265.32793116, 107964.07868966, 107367.94382172,\n",
       "       154211.57699266, 216183.71075555, 216344.03268522, 119371.39571026,\n",
       "       119781.03699263, 132873.65835784, 105734.5596368 , 144933.94173688,\n",
       "        83975.55551688,  69723.75736901, 161779.42420227, 152523.72804329,\n",
       "       205100.39726217, 232555.35512467, 248330.16413906, 171773.81168808,\n",
       "       200063.85603378, 303878.33311859, 128825.37678764, 173180.82867491,\n",
       "        78462.2511408 ,  96695.65081811, 178795.38956415, 209915.00185419,\n",
       "       136990.83965526, 116699.41036908, 186891.99770231, 231446.23467604,\n",
       "       251615.72573646, 273564.95296806,  93267.17609443, 317322.78802754,\n",
       "       316398.56198277, 266130.78545255, 232422.79325194, 123385.43054714,\n",
       "        22479.25259584, 129942.93364996, 141824.40589754, 263300.58593598,\n",
       "       126424.18333364, 160394.64551668, 148186.70860606, 193498.28519355,\n",
       "       191720.21094187, 141047.92747166, 187943.54019237, 184854.46118855,\n",
       "       160261.26069694, 221816.4413391 , 103387.67380619, 168165.42175788,\n",
       "        87310.4439464 ,  82458.52233971, 139501.90808162, 192148.65941169,\n",
       "       180378.64468075,  93975.51452742, 125644.84193352, 185536.82419796,\n",
       "       280387.74642257, 240448.04667999, 187278.48491054, 106684.18837509,\n",
       "       194903.48036617, 135654.79669547, 169918.01310314, 155650.51760937,\n",
       "       133493.94955768, 263872.45672676, 133061.32388119, 287798.34183525,\n",
       "       178767.27509595, 219121.83618031, 261440.62097988, 115641.1279088 ,\n",
       "       154572.96799123, 138445.42704716, 125351.62548569, 203202.25940966,\n",
       "       235142.3663913 , 249240.4100592 , 192712.74803217, 190392.37656657,\n",
       "       225566.16316388,  81633.63303638, 238298.15789167, 121879.92822433,\n",
       "       184765.56821321, 344060.0003847 , 128285.22990324, 287643.98127921,\n",
       "       167743.43310474, 262430.1555283 , 210216.20154343, 130553.72406351,\n",
       "       170340.02597734, 189263.61572031, 314593.08276212, 297456.25227543,\n",
       "       217780.37075305, 205801.68401873, 206372.45784958, 174166.50502172,\n",
       "       127698.25836866, 138400.37661014, 105231.6002614 , 265543.48688881,\n",
       "       182180.5614641 , 119442.78849619, 217654.47420263,  63193.78588046,\n",
       "       184999.09353057, 175917.00193267, 136742.9824669 , 113142.52784992,\n",
       "       237012.33397663, 239139.81803631, 119337.57523609, 289315.28560238,\n",
       "       151493.12478557, 116641.9685378 , 152897.11082324, 218462.40064717,\n",
       "       249046.97775506, 137115.14649888, 109922.82255185, 152828.10894945,\n",
       "       262494.39892755, 125437.4290514 , 255569.94663862, 290250.03067475,\n",
       "       117344.55544202, 256764.2941399 , 102857.5134521 , 183448.60839002,\n",
       "       260041.6356075 , 118595.23001615, 247855.97137735, 136217.95708163,\n",
       "       241497.42367661, 350980.40955407, 221219.10344795, 209690.1833442 ,\n",
       "       152929.20878935, 287689.96848995,  78473.45651284, 139799.33546961,\n",
       "       125673.66722573, 201793.05705909, 105117.75886816, 296421.41851396,\n",
       "       209467.30909332, 166595.957869  , 175145.9325445 , 166291.83716407,\n",
       "       212922.52148342, 129594.93747312, 117140.36087077, 180009.00615287,\n",
       "       173999.91105925, 150604.80543676,  46949.45032449,  75539.30139257,\n",
       "       268900.34223244, 123748.91179867, 200159.87841141, 273103.03923849,\n",
       "       209088.66083833, 201201.57053612, 202820.80792084, 238201.47122349,\n",
       "       213774.20595424, 115637.47634036, 239132.69288025, 114846.18256309,\n",
       "       159777.54134192, 118823.27842652, 153451.05448405, 447537.38376172,\n",
       "       121015.82157178, 215539.39842318, 213409.47019871, 239761.17672235,\n",
       "       131675.95989934, 101640.00173866, 136416.18957023, 246969.63081118,\n",
       "       173255.9780823 , 107016.04275906, 253052.73854421, 246198.42741558,\n",
       "       119639.30595385, 146493.2309631 , 119352.1920544 , 182929.65920358,\n",
       "        43237.62836587, 236082.09118687,  85132.49707214, 195390.8727991 ,\n",
       "       312771.53012031, 147190.80681523, 152523.72804329, 177785.10442306,\n",
       "       185902.88311218, 158380.68460163, 181086.29359984, 223825.23938725,\n",
       "       189231.44017186, 229373.00754576, 312714.25232767, 210353.90952737,\n",
       "       117132.87200854, 122223.13503616, 172680.24918761, 110831.79972784,\n",
       "       172519.32724976, 264408.69110983, 191886.23687337, 178955.57144097,\n",
       "       220899.81693203, 106878.23951816, 285674.62279693, 129505.40363603,\n",
       "       129667.20551642, 270245.13126554, 102648.98281816, 135850.7739218 ,\n",
       "       133667.36268501, 127797.53528318,  12760.81778253, 188285.03495424,\n",
       "       150559.30819439, 195752.37906238, 282172.72885898, 267511.67361704,\n",
       "       113520.38868498, 154961.06261776, 150273.50266078, 115945.55168862,\n",
       "       230116.82406426, 355765.5068028 , 208608.63685688, 100190.7999623 ,\n",
       "       126643.43181443,  -6383.78700621, 147059.20612271, 189988.18155841,\n",
       "       157253.25985149, 203796.51431402, 159463.24704526, 150485.2331032 ,\n",
       "        65793.60487673, 222471.7186094 , 152502.34103297, 187573.13746406,\n",
       "       153241.21200642,  84390.502299  ,  82423.04936571, 172896.90318211,\n",
       "       229865.78661117, 299787.2605605 , 232486.97151992, 105336.33437602,\n",
       "       120055.54094137, 280269.69908115, 134927.80708665, 257432.21473457,\n",
       "        58081.54180768, 178615.99844321, 215730.04580473,  85678.08527012,\n",
       "       116374.33638717, 178134.78884888, 133174.59447395, 180749.43229553,\n",
       "       110989.79604995, 187947.12169503, 178765.3878561 , 131876.37629116,\n",
       "       167761.81284093, 124383.8108937 , 117256.00144097, 214816.71110218,\n",
       "       141148.15162558, 152097.67898294, 172134.89423192, 108532.35469377,\n",
       "        86327.19487239, 143958.69048916, 187649.83223759, 127400.68285568,\n",
       "       169422.14514029, 152523.72804329, 226419.30907438, 128387.70964962,\n",
       "       202529.49771346, 139798.19440854, 269297.12578612,  99639.62232575,\n",
       "       160193.48246542, 166913.18289753, 143062.83694605, 118936.26427017,\n",
       "       276370.6180274 , 221175.03607407, 135841.09402269,  96150.06262013,\n",
       "       138912.03114574, 131801.71528865, 314161.19470578, 228792.49343798,\n",
       "        99860.12066645, 127404.56202363, 132245.04256372, 311703.32362092,\n",
       "       129296.15223948, 219947.1118082 , 135255.51105522, 182300.65249723,\n",
       "       233217.53772523,  98023.60078223, 130120.515971  , 102598.3806183 ,\n",
       "       177822.96924856, 118688.74976479,  86342.04517103, 327948.20923134,\n",
       "       215180.36124197, 102581.21638336, 160482.37127775,  20349.0551586 ,\n",
       "       205385.45254194, 269082.41071322,  45317.51269663, 192587.57322743,\n",
       "       204944.82595401, 123374.87782601, 151057.77151672, 107805.71287854,\n",
       "       145304.9701589 , 161836.08435684, 197612.89305315, 133811.26213541,\n",
       "       322908.53980711, 139275.70469306, 177323.63549798, 211300.90769331,\n",
       "       106935.25162075,  61218.61984872, 148876.04161433, 175399.97480076,\n",
       "       187254.07963657, 180199.29540288, 130939.35364267, 154958.77736858,\n",
       "       303882.73310501, 122115.13782927, 210144.62112526, 260930.71612018,\n",
       "       169764.87629112,  69361.74836332, 262975.46846902, 192210.42268254,\n",
       "       170383.93983151, 187208.51231087, 141767.69776269, 104535.68182455,\n",
       "       117494.14197587, 167336.37071494,  13964.35226602, 168153.73904089,\n",
       "       214374.34599157, 181154.8709939 , 235271.77277336, 187800.28812438,\n",
       "       168840.84076026, 185843.35759685, 200956.81093479, 234442.95169843,\n",
       "       351129.59776771, 247522.30677386, 209410.6335772 , 184354.37643655,\n",
       "       147642.42744491, 294135.82678047, 233873.88079485, 287805.51403954,\n",
       "       214123.07955044, 145049.41197946, 107698.59518248, 136031.7260357 ,\n",
       "       145506.5028407 ,  83975.55551688, 155225.940845  , 101759.18268811,\n",
       "       309536.15068747, 213305.51345189, 186832.61500493, 264037.44598279,\n",
       "       193178.96971908, 172043.84168877, 212096.36461096, 323687.51654085,\n",
       "       124877.54373335, 200009.61483985,  61171.92123466, 109465.4145271 ,\n",
       "       232357.42080608, 136794.35819411, 214282.15813331, 176497.70035611,\n",
       "       225025.72904544, 304890.39546998, 100663.2822422 , 251068.13991472,\n",
       "       152523.72804329, 130473.94795014, 146627.31279471, 120233.49178636,\n",
       "       277492.39632099, 246690.49420852, 170119.31578171, 131069.51702412,\n",
       "       114952.38800466, 303871.5601591 , 224995.6111482 ,  84793.06867341,\n",
       "       128644.44927744, 121221.55903666, 116223.91373462, 207384.33715072,\n",
       "       253372.00007066, 233389.20257825, 181835.97477358, 259675.50972417,\n",
       "       214265.58922835, 263094.04408084, 128073.36312899, 114550.34878517,\n",
       "       275480.6127915 , 184323.69844081, 200924.38445726, 116962.74523282,\n",
       "       268554.10343437,  77645.12449516, 228998.15209407, 192167.03488608,\n",
       "       255125.91286378, 165272.09313222, 206734.00166958, 151163.00964217,\n",
       "       167146.73008932, 158630.83107862, 139256.8610376 , 128892.93415098,\n",
       "       219426.3784421 , 165307.6539543 , 151613.92939282, 126241.03654594,\n",
       "       171063.46657953, 186987.88780986, 209052.37694226, 218126.17162562,\n",
       "       136383.24368927, 309158.45884936, 276353.58854365, 144779.30872812,\n",
       "       176145.42944542, 185168.70710265, 116591.22346138, 133493.94955768,\n",
       "       366310.51130398,  56579.44005771, 151363.46208493, 229604.84875943,\n",
       "       132312.22299547, 231765.31722702, 133902.4196303 , 204790.94681306,\n",
       "       181428.06821004, 299913.2347121 , 205040.90675582, 200617.92235861,\n",
       "       285107.5939432 , 175507.62842018, 226228.26295323, 163085.75707699,\n",
       "       164678.77388988, 227061.86143581, 124838.68018091, 171634.59232049,\n",
       "       217672.73597171, 133010.7884881 , 118633.89582635, 164649.91319731,\n",
       "       175399.97480076, 334237.08930297, 107299.52755264, 115609.29435261,\n",
       "        96267.32011547, 155230.12942715, 270459.28185565, 151078.3367376 ,\n",
       "       262116.87692941, 149212.73593882, 198064.31488827, 250622.17767835,\n",
       "       181906.01972905, 282097.68307851, 174923.99201558, 228278.72040959,\n",
       "       208259.35411056, 223207.03530424, 230432.96155808, 222640.96766489,\n",
       "       137207.15184139, 134935.97364385, 179480.3378114 , 106959.07734301,\n",
       "       251192.92089911, 120149.93176201, 123518.18975921, 191955.38061015,\n",
       "       140170.15392115, 125117.2022609 , 124036.78245597, 290270.45115042,\n",
       "       154854.06708783, 144615.42386417, 209088.66083833, 224692.92135079,\n",
       "       213798.76376575,  82944.53446443,  95095.02626837, 170233.66905786,\n",
       "       191271.61874487, 110237.65628424, 322373.77925234, 150042.99209562,\n",
       "       190786.83903248, 215263.37094436, 350772.02294437, 121684.00653078,\n",
       "       201927.73559363, 145721.87404779, 192471.63761819, 160961.85666435,\n",
       "       275678.40320816, 230799.52454174, 143063.87530759, 116211.0351958 ,\n",
       "       278881.5075496 , 126125.79378874, 126346.00141757, 117237.15778551,\n",
       "       216959.64391322, 201775.27357515, 217486.44388257, 126417.52903863,\n",
       "       166191.28364586, 185270.16351071, 268060.09195664, 219951.38511431,\n",
       "       137400.98029564, 185149.13753944, 189316.00770097, 172973.36914904,\n",
       "       126401.34740251, 143068.65222559, 191950.98295596,  80086.49348391,\n",
       "       238258.13096457,  82423.04936571, 206282.81810416,  85213.48913255,\n",
       "       319571.66272217, 156499.04468136, 135850.7739218 , 154518.64122375,\n",
       "       164103.15868233, 209850.31384968, 212896.91149729, 234413.51916052,\n",
       "       193951.82367074, 166101.07579644, 234695.55510575, 309041.85627204,\n",
       "       212951.39802485, 186536.16337342, 191055.52512077, 129509.84904792,\n",
       "       101489.22298988, 112466.18977267])"
      ]
     },
     "execution_count": 35,
     "metadata": {},
     "output_type": "execute_result"
    }
   ],
   "source": [
    "pred"
   ]
  },
  {
   "cell_type": "code",
   "execution_count": 36,
   "id": "dc19cf04",
   "metadata": {},
   "outputs": [],
   "source": [
    "# Store predictions\n",
    "testdf['SalePrice'] = list(pred)"
   ]
  },
  {
   "cell_type": "code",
   "execution_count": 37,
   "id": "bf2a4051",
   "metadata": {},
   "outputs": [],
   "source": [
    "# Store in new df for kaggle submission\n",
    "pred_test = testdf.loc[:,['Id','SalePrice']]"
   ]
  },
  {
   "cell_type": "code",
   "execution_count": 38,
   "id": "be10dffb",
   "metadata": {},
   "outputs": [],
   "source": [
    "# Save df as csv\n",
    "pred_test.to_csv('datasets/pred_test.csv', index=False)"
   ]
  },
  {
   "cell_type": "code",
   "execution_count": null,
   "id": "105ed232",
   "metadata": {},
   "outputs": [],
   "source": []
  },
  {
   "cell_type": "code",
   "execution_count": null,
   "id": "090d8d04",
   "metadata": {},
   "outputs": [],
   "source": []
  }
 ],
 "metadata": {
  "kernelspec": {
   "display_name": "Python 3 (ipykernel)",
   "language": "python",
   "name": "python3"
  },
  "language_info": {
   "codemirror_mode": {
    "name": "ipython",
    "version": 3
   },
   "file_extension": ".py",
   "mimetype": "text/x-python",
   "name": "python",
   "nbconvert_exporter": "python",
   "pygments_lexer": "ipython3",
   "version": "3.9.12"
  }
 },
 "nbformat": 4,
 "nbformat_minor": 5
}
