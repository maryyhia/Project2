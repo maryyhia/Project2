{
 "cells": [
  {
   "cell_type": "markdown",
   "id": "c39a6eac",
   "metadata": {},
   "source": [
    "# PROJECT 2 : Part 1\n",
    "## Ames Housing Data and Kaggle Challenge"
   ]
  },
  {
   "cell_type": "markdown",
   "id": "b8c5fd3d",
   "metadata": {},
   "source": [
    "### Background\n",
    "Real Sky Estate Development has been developing residential areas around Ames and is looking to procure and develop new housing in the area. \n",
    "\n",
    "Previous housing developments were not returning favourable profits due to the recent pandemic and political tensions. It also caused a rise in the costs of living and building materials over the years.\n",
    "\n",
    "Facing a forecasted recession in the upcoming year, Real Sky senior management team has reached out to our data science team to pinpoint factors that will direct towards revamping the company’s focus structure to improve the attractiveness and sales price of new housing developments.  "
   ]
  },
  {
   "cell_type": "markdown",
   "id": "06f49b06",
   "metadata": {},
   "source": [
    "### Problem Statement\n",
    "What core features should we, Real Sky, focus on to increase the sale price of homes for our next development project?"
   ]
  },
  {
   "cell_type": "markdown",
   "id": "a519b7fd",
   "metadata": {},
   "source": [
    "## Data Cleaning\n",
    "This notebook will focus on cleaning the given dataset in prepatory for EDA and visualisations (Part 2). "
   ]
  },
  {
   "cell_type": "code",
   "execution_count": 1,
   "id": "bdbaa7a7",
   "metadata": {},
   "outputs": [],
   "source": [
    "# Import Libraries\n",
    "\n",
    "import pandas as pd\n",
    "import numpy as np\n",
    "import statistics as stats\n",
    "import warnings\n",
    "warnings.filterwarnings('ignore')\n",
    "\n",
    "from sklearn.impute import SimpleImputer"
   ]
  },
  {
   "cell_type": "markdown",
   "id": "113bdabd",
   "metadata": {},
   "source": [
    "### Data\n",
    "Ames Housing Dataset:\n",
    "train.csv & test.csv"
   ]
  },
  {
   "cell_type": "code",
   "execution_count": 2,
   "id": "4e7ee409",
   "metadata": {},
   "outputs": [],
   "source": [
    "pd.set_option('display.max_rows', None)"
   ]
  },
  {
   "cell_type": "code",
   "execution_count": 3,
   "id": "a0f65a47",
   "metadata": {},
   "outputs": [],
   "source": [
    "# Load data\n",
    "traindf = pd.read_csv('datasets/train.csv')"
   ]
  },
  {
   "cell_type": "code",
   "execution_count": 4,
   "id": "6d2c100f",
   "metadata": {},
   "outputs": [
    {
     "name": "stdout",
     "output_type": "stream",
     "text": [
      "<class 'pandas.core.frame.DataFrame'>\n",
      "RangeIndex: 2051 entries, 0 to 2050\n",
      "Data columns (total 81 columns):\n",
      " #   Column           Non-Null Count  Dtype  \n",
      "---  ------           --------------  -----  \n",
      " 0   Id               2051 non-null   int64  \n",
      " 1   PID              2051 non-null   int64  \n",
      " 2   MS SubClass      2051 non-null   int64  \n",
      " 3   MS Zoning        2051 non-null   object \n",
      " 4   Lot Frontage     1721 non-null   float64\n",
      " 5   Lot Area         2051 non-null   int64  \n",
      " 6   Street           2051 non-null   object \n",
      " 7   Alley            140 non-null    object \n",
      " 8   Lot Shape        2051 non-null   object \n",
      " 9   Land Contour     2051 non-null   object \n",
      " 10  Utilities        2051 non-null   object \n",
      " 11  Lot Config       2051 non-null   object \n",
      " 12  Land Slope       2051 non-null   object \n",
      " 13  Neighborhood     2051 non-null   object \n",
      " 14  Condition 1      2051 non-null   object \n",
      " 15  Condition 2      2051 non-null   object \n",
      " 16  Bldg Type        2051 non-null   object \n",
      " 17  House Style      2051 non-null   object \n",
      " 18  Overall Qual     2051 non-null   int64  \n",
      " 19  Overall Cond     2051 non-null   int64  \n",
      " 20  Year Built       2051 non-null   int64  \n",
      " 21  Year Remod/Add   2051 non-null   int64  \n",
      " 22  Roof Style       2051 non-null   object \n",
      " 23  Roof Matl        2051 non-null   object \n",
      " 24  Exterior 1st     2051 non-null   object \n",
      " 25  Exterior 2nd     2051 non-null   object \n",
      " 26  Mas Vnr Type     2029 non-null   object \n",
      " 27  Mas Vnr Area     2029 non-null   float64\n",
      " 28  Exter Qual       2051 non-null   object \n",
      " 29  Exter Cond       2051 non-null   object \n",
      " 30  Foundation       2051 non-null   object \n",
      " 31  Bsmt Qual        1996 non-null   object \n",
      " 32  Bsmt Cond        1996 non-null   object \n",
      " 33  Bsmt Exposure    1993 non-null   object \n",
      " 34  BsmtFin Type 1   1996 non-null   object \n",
      " 35  BsmtFin SF 1     2050 non-null   float64\n",
      " 36  BsmtFin Type 2   1995 non-null   object \n",
      " 37  BsmtFin SF 2     2050 non-null   float64\n",
      " 38  Bsmt Unf SF      2050 non-null   float64\n",
      " 39  Total Bsmt SF    2050 non-null   float64\n",
      " 40  Heating          2051 non-null   object \n",
      " 41  Heating QC       2051 non-null   object \n",
      " 42  Central Air      2051 non-null   object \n",
      " 43  Electrical       2051 non-null   object \n",
      " 44  1st Flr SF       2051 non-null   int64  \n",
      " 45  2nd Flr SF       2051 non-null   int64  \n",
      " 46  Low Qual Fin SF  2051 non-null   int64  \n",
      " 47  Gr Liv Area      2051 non-null   int64  \n",
      " 48  Bsmt Full Bath   2049 non-null   float64\n",
      " 49  Bsmt Half Bath   2049 non-null   float64\n",
      " 50  Full Bath        2051 non-null   int64  \n",
      " 51  Half Bath        2051 non-null   int64  \n",
      " 52  Bedroom AbvGr    2051 non-null   int64  \n",
      " 53  Kitchen AbvGr    2051 non-null   int64  \n",
      " 54  Kitchen Qual     2051 non-null   object \n",
      " 55  TotRms AbvGrd    2051 non-null   int64  \n",
      " 56  Functional       2051 non-null   object \n",
      " 57  Fireplaces       2051 non-null   int64  \n",
      " 58  Fireplace Qu     1051 non-null   object \n",
      " 59  Garage Type      1938 non-null   object \n",
      " 60  Garage Yr Blt    1937 non-null   float64\n",
      " 61  Garage Finish    1937 non-null   object \n",
      " 62  Garage Cars      2050 non-null   float64\n",
      " 63  Garage Area      2050 non-null   float64\n",
      " 64  Garage Qual      1937 non-null   object \n",
      " 65  Garage Cond      1937 non-null   object \n",
      " 66  Paved Drive      2051 non-null   object \n",
      " 67  Wood Deck SF     2051 non-null   int64  \n",
      " 68  Open Porch SF    2051 non-null   int64  \n",
      " 69  Enclosed Porch   2051 non-null   int64  \n",
      " 70  3Ssn Porch       2051 non-null   int64  \n",
      " 71  Screen Porch     2051 non-null   int64  \n",
      " 72  Pool Area        2051 non-null   int64  \n",
      " 73  Pool QC          9 non-null      object \n",
      " 74  Fence            400 non-null    object \n",
      " 75  Misc Feature     65 non-null     object \n",
      " 76  Misc Val         2051 non-null   int64  \n",
      " 77  Mo Sold          2051 non-null   int64  \n",
      " 78  Yr Sold          2051 non-null   int64  \n",
      " 79  Sale Type        2051 non-null   object \n",
      " 80  SalePrice        2051 non-null   int64  \n",
      "dtypes: float64(11), int64(28), object(42)\n",
      "memory usage: 1.3+ MB\n"
     ]
    }
   ],
   "source": [
    "# Display train data\n",
    "\n",
    "traindf.info()"
   ]
  },
  {
   "cell_type": "code",
   "execution_count": 6,
   "id": "2391fe34",
   "metadata": {
    "scrolled": true
   },
   "outputs": [
    {
     "data": {
      "text/plain": [
       "(2051, 81)"
      ]
     },
     "execution_count": 6,
     "metadata": {},
     "output_type": "execute_result"
    }
   ],
   "source": [
    "traindf.shape"
   ]
  },
  {
   "cell_type": "code",
   "execution_count": 7,
   "id": "fdb2b176",
   "metadata": {
    "scrolled": true
   },
   "outputs": [
    {
     "data": {
      "text/html": [
       "<div>\n",
       "<style scoped>\n",
       "    .dataframe tbody tr th:only-of-type {\n",
       "        vertical-align: middle;\n",
       "    }\n",
       "\n",
       "    .dataframe tbody tr th {\n",
       "        vertical-align: top;\n",
       "    }\n",
       "\n",
       "    .dataframe thead th {\n",
       "        text-align: right;\n",
       "    }\n",
       "</style>\n",
       "<table border=\"1\" class=\"dataframe\">\n",
       "  <thead>\n",
       "    <tr style=\"text-align: right;\">\n",
       "      <th></th>\n",
       "      <th>missing_value_count</th>\n",
       "      <th>% of dataset</th>\n",
       "    </tr>\n",
       "  </thead>\n",
       "  <tbody>\n",
       "    <tr>\n",
       "      <th>Pool QC</th>\n",
       "      <td>2042</td>\n",
       "      <td>99.56</td>\n",
       "    </tr>\n",
       "    <tr>\n",
       "      <th>Misc Feature</th>\n",
       "      <td>1986</td>\n",
       "      <td>96.83</td>\n",
       "    </tr>\n",
       "    <tr>\n",
       "      <th>Alley</th>\n",
       "      <td>1911</td>\n",
       "      <td>93.17</td>\n",
       "    </tr>\n",
       "    <tr>\n",
       "      <th>Fence</th>\n",
       "      <td>1651</td>\n",
       "      <td>80.50</td>\n",
       "    </tr>\n",
       "    <tr>\n",
       "      <th>Fireplace Qu</th>\n",
       "      <td>1000</td>\n",
       "      <td>48.76</td>\n",
       "    </tr>\n",
       "    <tr>\n",
       "      <th>Lot Frontage</th>\n",
       "      <td>330</td>\n",
       "      <td>16.09</td>\n",
       "    </tr>\n",
       "    <tr>\n",
       "      <th>Garage Yr Blt</th>\n",
       "      <td>114</td>\n",
       "      <td>5.56</td>\n",
       "    </tr>\n",
       "    <tr>\n",
       "      <th>Garage Cond</th>\n",
       "      <td>114</td>\n",
       "      <td>5.56</td>\n",
       "    </tr>\n",
       "    <tr>\n",
       "      <th>Garage Qual</th>\n",
       "      <td>114</td>\n",
       "      <td>5.56</td>\n",
       "    </tr>\n",
       "    <tr>\n",
       "      <th>Garage Finish</th>\n",
       "      <td>114</td>\n",
       "      <td>5.56</td>\n",
       "    </tr>\n",
       "    <tr>\n",
       "      <th>Garage Type</th>\n",
       "      <td>113</td>\n",
       "      <td>5.51</td>\n",
       "    </tr>\n",
       "    <tr>\n",
       "      <th>Bsmt Exposure</th>\n",
       "      <td>58</td>\n",
       "      <td>2.83</td>\n",
       "    </tr>\n",
       "    <tr>\n",
       "      <th>BsmtFin Type 2</th>\n",
       "      <td>56</td>\n",
       "      <td>2.73</td>\n",
       "    </tr>\n",
       "    <tr>\n",
       "      <th>Bsmt Cond</th>\n",
       "      <td>55</td>\n",
       "      <td>2.68</td>\n",
       "    </tr>\n",
       "    <tr>\n",
       "      <th>Bsmt Qual</th>\n",
       "      <td>55</td>\n",
       "      <td>2.68</td>\n",
       "    </tr>\n",
       "    <tr>\n",
       "      <th>BsmtFin Type 1</th>\n",
       "      <td>55</td>\n",
       "      <td>2.68</td>\n",
       "    </tr>\n",
       "    <tr>\n",
       "      <th>Mas Vnr Area</th>\n",
       "      <td>22</td>\n",
       "      <td>1.07</td>\n",
       "    </tr>\n",
       "    <tr>\n",
       "      <th>Mas Vnr Type</th>\n",
       "      <td>22</td>\n",
       "      <td>1.07</td>\n",
       "    </tr>\n",
       "    <tr>\n",
       "      <th>Bsmt Half Bath</th>\n",
       "      <td>2</td>\n",
       "      <td>0.10</td>\n",
       "    </tr>\n",
       "    <tr>\n",
       "      <th>Bsmt Full Bath</th>\n",
       "      <td>2</td>\n",
       "      <td>0.10</td>\n",
       "    </tr>\n",
       "    <tr>\n",
       "      <th>Total Bsmt SF</th>\n",
       "      <td>1</td>\n",
       "      <td>0.05</td>\n",
       "    </tr>\n",
       "    <tr>\n",
       "      <th>Bsmt Unf SF</th>\n",
       "      <td>1</td>\n",
       "      <td>0.05</td>\n",
       "    </tr>\n",
       "    <tr>\n",
       "      <th>BsmtFin SF 2</th>\n",
       "      <td>1</td>\n",
       "      <td>0.05</td>\n",
       "    </tr>\n",
       "    <tr>\n",
       "      <th>Garage Cars</th>\n",
       "      <td>1</td>\n",
       "      <td>0.05</td>\n",
       "    </tr>\n",
       "    <tr>\n",
       "      <th>Garage Area</th>\n",
       "      <td>1</td>\n",
       "      <td>0.05</td>\n",
       "    </tr>\n",
       "    <tr>\n",
       "      <th>BsmtFin SF 1</th>\n",
       "      <td>1</td>\n",
       "      <td>0.05</td>\n",
       "    </tr>\n",
       "  </tbody>\n",
       "</table>\n",
       "</div>"
      ],
      "text/plain": [
       "                missing_value_count  % of dataset\n",
       "Pool QC                        2042         99.56\n",
       "Misc Feature                   1986         96.83\n",
       "Alley                          1911         93.17\n",
       "Fence                          1651         80.50\n",
       "Fireplace Qu                   1000         48.76\n",
       "Lot Frontage                    330         16.09\n",
       "Garage Yr Blt                   114          5.56\n",
       "Garage Cond                     114          5.56\n",
       "Garage Qual                     114          5.56\n",
       "Garage Finish                   114          5.56\n",
       "Garage Type                     113          5.51\n",
       "Bsmt Exposure                    58          2.83\n",
       "BsmtFin Type 2                   56          2.73\n",
       "Bsmt Cond                        55          2.68\n",
       "Bsmt Qual                        55          2.68\n",
       "BsmtFin Type 1                   55          2.68\n",
       "Mas Vnr Area                     22          1.07\n",
       "Mas Vnr Type                     22          1.07\n",
       "Bsmt Half Bath                    2          0.10\n",
       "Bsmt Full Bath                    2          0.10\n",
       "Total Bsmt SF                     1          0.05\n",
       "Bsmt Unf SF                       1          0.05\n",
       "BsmtFin SF 2                      1          0.05\n",
       "Garage Cars                       1          0.05\n",
       "Garage Area                       1          0.05\n",
       "BsmtFin SF 1                      1          0.05"
      ]
     },
     "execution_count": 7,
     "metadata": {},
     "output_type": "execute_result"
    }
   ],
   "source": [
    "# Check for null values\n",
    "null_stats = pd.DataFrame(traindf.isnull().sum(), columns = ['missing_value_count'])\n",
    "null_stats.loc[:,'% of dataset'] = np.round(null_stats.loc[:,'missing_value_count']/traindf.shape[0]*100,2)\n",
    "null_stats.loc[null_stats.loc[:,'missing_value_count']>0,:].sort_values(by='missing_value_count',ascending=False)"
   ]
  },
  {
   "cell_type": "markdown",
   "id": "d456d8f2",
   "metadata": {},
   "source": [
    "27 columns have shown to have missing data. 6 of them have only 1 missing value each, while Pool QC only have 9 values in the data frame. \n",
    "\n",
    "The top 4 columns with less than 20% of values present will be dropped. There are too little data present. If those null values were filled it would skew the accuracy of the data. \n",
    "The columns with less than 1% missing values will have those rows containing the missing value removed. As it is just 1 row out of the 2051 rows, it would not affect the data accuracy by much or any at all. "
   ]
  },
  {
   "cell_type": "code",
   "execution_count": 8,
   "id": "a4344af3",
   "metadata": {
    "scrolled": true
   },
   "outputs": [],
   "source": [
    "traindf.drop(columns=['Pool QC','Misc Feature', 'Alley', 'Fence'], inplace=True)\n",
    "\n"
   ]
  },
  {
   "cell_type": "code",
   "execution_count": 9,
   "id": "bbc7ba56",
   "metadata": {},
   "outputs": [],
   "source": [
    "traindf.dropna(subset =['Bsmt Half Bath', 'Bsmt Full Bath', 'Total Bsmt SF', 'Bsmt Unf SF', 'BsmtFin SF 2', 'Garage Cars', 'Garage Area', 'BsmtFin SF 1'],inplace=True)"
   ]
  },
  {
   "cell_type": "code",
   "execution_count": 10,
   "id": "a77c458a",
   "metadata": {},
   "outputs": [
    {
     "data": {
      "text/html": [
       "<div>\n",
       "<style scoped>\n",
       "    .dataframe tbody tr th:only-of-type {\n",
       "        vertical-align: middle;\n",
       "    }\n",
       "\n",
       "    .dataframe tbody tr th {\n",
       "        vertical-align: top;\n",
       "    }\n",
       "\n",
       "    .dataframe thead th {\n",
       "        text-align: right;\n",
       "    }\n",
       "</style>\n",
       "<table border=\"1\" class=\"dataframe\">\n",
       "  <thead>\n",
       "    <tr style=\"text-align: right;\">\n",
       "      <th></th>\n",
       "      <th>missing_value_count</th>\n",
       "      <th>% of dataset</th>\n",
       "    </tr>\n",
       "  </thead>\n",
       "  <tbody>\n",
       "    <tr>\n",
       "      <th>Fireplace Qu</th>\n",
       "      <td>998</td>\n",
       "      <td>48.73</td>\n",
       "    </tr>\n",
       "    <tr>\n",
       "      <th>Lot Frontage</th>\n",
       "      <td>330</td>\n",
       "      <td>16.11</td>\n",
       "    </tr>\n",
       "    <tr>\n",
       "      <th>Garage Type</th>\n",
       "      <td>113</td>\n",
       "      <td>5.52</td>\n",
       "    </tr>\n",
       "    <tr>\n",
       "      <th>Garage Yr Blt</th>\n",
       "      <td>113</td>\n",
       "      <td>5.52</td>\n",
       "    </tr>\n",
       "    <tr>\n",
       "      <th>Garage Finish</th>\n",
       "      <td>113</td>\n",
       "      <td>5.52</td>\n",
       "    </tr>\n",
       "    <tr>\n",
       "      <th>Garage Qual</th>\n",
       "      <td>113</td>\n",
       "      <td>5.52</td>\n",
       "    </tr>\n",
       "    <tr>\n",
       "      <th>Garage Cond</th>\n",
       "      <td>113</td>\n",
       "      <td>5.52</td>\n",
       "    </tr>\n",
       "    <tr>\n",
       "      <th>Bsmt Exposure</th>\n",
       "      <td>56</td>\n",
       "      <td>2.73</td>\n",
       "    </tr>\n",
       "    <tr>\n",
       "      <th>BsmtFin Type 2</th>\n",
       "      <td>54</td>\n",
       "      <td>2.64</td>\n",
       "    </tr>\n",
       "    <tr>\n",
       "      <th>Bsmt Qual</th>\n",
       "      <td>53</td>\n",
       "      <td>2.59</td>\n",
       "    </tr>\n",
       "    <tr>\n",
       "      <th>Bsmt Cond</th>\n",
       "      <td>53</td>\n",
       "      <td>2.59</td>\n",
       "    </tr>\n",
       "    <tr>\n",
       "      <th>BsmtFin Type 1</th>\n",
       "      <td>53</td>\n",
       "      <td>2.59</td>\n",
       "    </tr>\n",
       "    <tr>\n",
       "      <th>Mas Vnr Type</th>\n",
       "      <td>22</td>\n",
       "      <td>1.07</td>\n",
       "    </tr>\n",
       "    <tr>\n",
       "      <th>Mas Vnr Area</th>\n",
       "      <td>22</td>\n",
       "      <td>1.07</td>\n",
       "    </tr>\n",
       "  </tbody>\n",
       "</table>\n",
       "</div>"
      ],
      "text/plain": [
       "                missing_value_count  % of dataset\n",
       "Fireplace Qu                    998         48.73\n",
       "Lot Frontage                    330         16.11\n",
       "Garage Type                     113          5.52\n",
       "Garage Yr Blt                   113          5.52\n",
       "Garage Finish                   113          5.52\n",
       "Garage Qual                     113          5.52\n",
       "Garage Cond                     113          5.52\n",
       "Bsmt Exposure                    56          2.73\n",
       "BsmtFin Type 2                   54          2.64\n",
       "Bsmt Qual                        53          2.59\n",
       "Bsmt Cond                        53          2.59\n",
       "BsmtFin Type 1                   53          2.59\n",
       "Mas Vnr Type                     22          1.07\n",
       "Mas Vnr Area                     22          1.07"
      ]
     },
     "execution_count": 10,
     "metadata": {},
     "output_type": "execute_result"
    }
   ],
   "source": [
    "null_stats = pd.DataFrame(traindf.isnull().sum(), columns = ['missing_value_count'])\n",
    "null_stats.loc[:,'% of dataset'] = np.round(null_stats.loc[:,'missing_value_count']/traindf.shape[0]*100,2)\n",
    "null_stats.loc[null_stats.loc[:,'missing_value_count']>0,:].sort_values(by='missing_value_count',ascending=False)"
   ]
  },
  {
   "cell_type": "markdown",
   "id": "ff18a8dd",
   "metadata": {},
   "source": [
    "#### Replace missing values\n",
    "Missing values will be handled based on whether it is a categorical value or numerical value as the processes would be different. The data will be split accordingly. \n",
    "\n",
    "For features involving the garage, as they all have the same number of null values, and with reference from the data dictionary provided, it is safe to say that the null value is equivalent to no garage, 'None'. These values will be replace with 'None'."
   ]
  },
  {
   "cell_type": "code",
   "execution_count": 11,
   "id": "1633406b",
   "metadata": {},
   "outputs": [],
   "source": [
    "traindf[['Garage Type', 'Garage Yr Blt', 'Garage Finish', 'Garage Qual', 'Garage Cond']] = traindf[['Garage Type', 'Garage Yr Blt', 'Garage Finish', 'Garage Qual', 'Garage Cond']].fillna('None')"
   ]
  },
  {
   "cell_type": "code",
   "execution_count": 12,
   "id": "54d1a4db",
   "metadata": {},
   "outputs": [],
   "source": [
    "# Separate numerical and categorical features\n",
    "\n",
    "trainCat = traindf.loc[:, traindf.dtypes==object]\n",
    "trainNum = traindf.loc[:, traindf.dtypes!=object]"
   ]
  },
  {
   "cell_type": "code",
   "execution_count": 13,
   "id": "f00cc4f6",
   "metadata": {},
   "outputs": [
    {
     "data": {
      "text/plain": [
       "(2048, 39)"
      ]
     },
     "execution_count": 13,
     "metadata": {},
     "output_type": "execute_result"
    }
   ],
   "source": [
    "trainCat.shape"
   ]
  },
  {
   "cell_type": "code",
   "execution_count": 14,
   "id": "36e1fe25",
   "metadata": {},
   "outputs": [
    {
     "data": {
      "text/plain": [
       "(2048, 38)"
      ]
     },
     "execution_count": 14,
     "metadata": {},
     "output_type": "execute_result"
    }
   ],
   "source": [
    "trainNum.shape"
   ]
  },
  {
   "cell_type": "markdown",
   "id": "bb7ad866",
   "metadata": {},
   "source": [
    "### Categorical values"
   ]
  },
  {
   "cell_type": "code",
   "execution_count": 15,
   "id": "31af8ece",
   "metadata": {},
   "outputs": [
    {
     "data": {
      "text/html": [
       "<div>\n",
       "<style scoped>\n",
       "    .dataframe tbody tr th:only-of-type {\n",
       "        vertical-align: middle;\n",
       "    }\n",
       "\n",
       "    .dataframe tbody tr th {\n",
       "        vertical-align: top;\n",
       "    }\n",
       "\n",
       "    .dataframe thead th {\n",
       "        text-align: right;\n",
       "    }\n",
       "</style>\n",
       "<table border=\"1\" class=\"dataframe\">\n",
       "  <thead>\n",
       "    <tr style=\"text-align: right;\">\n",
       "      <th></th>\n",
       "      <th>missing_value_count</th>\n",
       "      <th>% of dataset</th>\n",
       "    </tr>\n",
       "  </thead>\n",
       "  <tbody>\n",
       "    <tr>\n",
       "      <th>Fireplace Qu</th>\n",
       "      <td>998</td>\n",
       "      <td>48.73</td>\n",
       "    </tr>\n",
       "    <tr>\n",
       "      <th>Bsmt Exposure</th>\n",
       "      <td>56</td>\n",
       "      <td>2.73</td>\n",
       "    </tr>\n",
       "    <tr>\n",
       "      <th>BsmtFin Type 2</th>\n",
       "      <td>54</td>\n",
       "      <td>2.64</td>\n",
       "    </tr>\n",
       "    <tr>\n",
       "      <th>Bsmt Qual</th>\n",
       "      <td>53</td>\n",
       "      <td>2.59</td>\n",
       "    </tr>\n",
       "    <tr>\n",
       "      <th>Bsmt Cond</th>\n",
       "      <td>53</td>\n",
       "      <td>2.59</td>\n",
       "    </tr>\n",
       "    <tr>\n",
       "      <th>BsmtFin Type 1</th>\n",
       "      <td>53</td>\n",
       "      <td>2.59</td>\n",
       "    </tr>\n",
       "    <tr>\n",
       "      <th>Mas Vnr Type</th>\n",
       "      <td>22</td>\n",
       "      <td>1.07</td>\n",
       "    </tr>\n",
       "  </tbody>\n",
       "</table>\n",
       "</div>"
      ],
      "text/plain": [
       "                missing_value_count  % of dataset\n",
       "Fireplace Qu                    998         48.73\n",
       "Bsmt Exposure                    56          2.73\n",
       "BsmtFin Type 2                   54          2.64\n",
       "Bsmt Qual                        53          2.59\n",
       "Bsmt Cond                        53          2.59\n",
       "BsmtFin Type 1                   53          2.59\n",
       "Mas Vnr Type                     22          1.07"
      ]
     },
     "execution_count": 15,
     "metadata": {},
     "output_type": "execute_result"
    }
   ],
   "source": [
    "null_stats = pd.DataFrame(trainCat.isnull().sum(), columns = ['missing_value_count'])\n",
    "null_stats.loc[:,'% of dataset'] = np.round(null_stats.loc[:,'missing_value_count']/trainCat.shape[0]*100,2)\n",
    "null_stats.loc[null_stats.loc[:,'missing_value_count']>0,:].sort_values(by='missing_value_count',ascending=False)"
   ]
  },
  {
   "cell_type": "code",
   "execution_count": 16,
   "id": "480a1869",
   "metadata": {},
   "outputs": [],
   "source": [
    "# Investigate the types of value under object-type columns"
   ]
  },
  {
   "cell_type": "code",
   "execution_count": 17,
   "id": "f494f5eb",
   "metadata": {},
   "outputs": [
    {
     "data": {
      "text/plain": [
       "Gd    522\n",
       "TA    407\n",
       "Fa     59\n",
       "Po     31\n",
       "Ex     31\n",
       "Name: Fireplace Qu, dtype: int64"
      ]
     },
     "execution_count": 17,
     "metadata": {},
     "output_type": "execute_result"
    }
   ],
   "source": [
    "trainCat['Fireplace Qu'].value_counts()"
   ]
  },
  {
   "cell_type": "code",
   "execution_count": 18,
   "id": "f97a386b",
   "metadata": {},
   "outputs": [
    {
     "data": {
      "text/plain": [
       "No    1338\n",
       "Av     288\n",
       "Gd     203\n",
       "Mn     163\n",
       "Name: Bsmt Exposure, dtype: int64"
      ]
     },
     "execution_count": 18,
     "metadata": {},
     "output_type": "execute_result"
    }
   ],
   "source": [
    "trainCat['Bsmt Exposure'].value_counts()"
   ]
  },
  {
   "cell_type": "code",
   "execution_count": 19,
   "id": "b77c4824",
   "metadata": {},
   "outputs": [
    {
     "data": {
      "text/plain": [
       "Unf    1748\n",
       "Rec      80\n",
       "LwQ      60\n",
       "BLQ      48\n",
       "ALQ      35\n",
       "GLQ      23\n",
       "Name: BsmtFin Type 2, dtype: int64"
      ]
     },
     "execution_count": 19,
     "metadata": {},
     "output_type": "execute_result"
    }
   ],
   "source": [
    "trainCat['BsmtFin Type 2'].value_counts()"
   ]
  },
  {
   "cell_type": "code",
   "execution_count": 20,
   "id": "c7fc0bae",
   "metadata": {},
   "outputs": [
    {
     "data": {
      "text/plain": [
       "TA    1833\n",
       "Gd      89\n",
       "Fa      65\n",
       "Po       5\n",
       "Ex       3\n",
       "Name: Bsmt Cond, dtype: int64"
      ]
     },
     "execution_count": 20,
     "metadata": {},
     "output_type": "execute_result"
    }
   ],
   "source": [
    "trainCat['Bsmt Cond'].value_counts()"
   ]
  },
  {
   "cell_type": "code",
   "execution_count": 21,
   "id": "9d308cea",
   "metadata": {},
   "outputs": [
    {
     "data": {
      "text/plain": [
       "TA    887\n",
       "Gd    863\n",
       "Ex    184\n",
       "Fa     60\n",
       "Po      1\n",
       "Name: Bsmt Qual, dtype: int64"
      ]
     },
     "execution_count": 21,
     "metadata": {},
     "output_type": "execute_result"
    }
   ],
   "source": [
    "trainCat['Bsmt Qual'].value_counts()"
   ]
  },
  {
   "cell_type": "code",
   "execution_count": 22,
   "id": "48e9baf4",
   "metadata": {},
   "outputs": [
    {
     "data": {
      "text/plain": [
       "GLQ    615\n",
       "Unf    603\n",
       "ALQ    292\n",
       "BLQ    200\n",
       "Rec    183\n",
       "LwQ    102\n",
       "Name: BsmtFin Type 1, dtype: int64"
      ]
     },
     "execution_count": 22,
     "metadata": {},
     "output_type": "execute_result"
    }
   ],
   "source": [
    "trainCat['BsmtFin Type 1'].value_counts()"
   ]
  },
  {
   "cell_type": "code",
   "execution_count": 23,
   "id": "a5bebf0c",
   "metadata": {},
   "outputs": [
    {
     "data": {
      "text/plain": [
       "None       1215\n",
       "BrkFace     630\n",
       "Stone       168\n",
       "BrkCmn       13\n",
       "Name: Mas Vnr Type, dtype: int64"
      ]
     },
     "execution_count": 23,
     "metadata": {},
     "output_type": "execute_result"
    }
   ],
   "source": [
    "trainCat['Mas Vnr Type'].value_counts()"
   ]
  },
  {
   "cell_type": "markdown",
   "id": "237d9e14",
   "metadata": {},
   "source": [
    "#### Fill replace ordinal values \n",
    "Some of the features have values where it can be a numerical. By replacing their values with numerical values it will greatly increase the accuracy in the machine learning process. These features will be filled with a rating numerical scale. Features to use fill-and-replace are: Fireplace Qu, Garage Cond, Garage Qual, Bsmt Exposure, Bsmt Cond, Bsmt Qual. "
   ]
  },
  {
   "cell_type": "code",
   "execution_count": 24,
   "id": "32f587d1",
   "metadata": {},
   "outputs": [],
   "source": [
    "# Create dictionary of replacement values\n",
    "\n",
    "replace = {'Ex':5, 'Gd':4, 'TA':3, 'Fa':2, 'Po':1 , np.NaN :0}\n",
    "    \n",
    "replace2 = {'Gd':4, 'Av':3, 'Mn':2, 'No':1, np.NaN :0}"
   ]
  },
  {
   "cell_type": "code",
   "execution_count": 25,
   "id": "68d59804",
   "metadata": {},
   "outputs": [],
   "source": [
    "# Fill and replace with appropriate dictionary\n",
    "# Fireplace Qu\n",
    "trainCat['Fireplace Qu'] = trainCat['Fireplace Qu'].map(replace)\n",
    "# Bsmt Exposure \n",
    "trainCat['Bsmt Exposure'] = trainCat['Bsmt Exposure'].map(replace2)\n",
    "# Bsmt Cond \n",
    "trainCat['Bsmt Cond'] = trainCat['Bsmt Cond'].map(replace)\n",
    "# Bsmt Qual\n",
    "trainCat['Bsmt Qual'] = trainCat['Bsmt Qual'].map(replace)"
   ]
  },
  {
   "cell_type": "markdown",
   "id": "aca32dcf",
   "metadata": {},
   "source": [
    "#### Fill the remaining null values"
   ]
  },
  {
   "cell_type": "code",
   "execution_count": 26,
   "id": "b9ac34a7",
   "metadata": {},
   "outputs": [],
   "source": [
    "# Replace null values with 'none' in remaining columns\n",
    "\n",
    "trainCat[['BsmtFin Type 2', 'BsmtFin Type 1', 'Mas Vnr Type']] = trainCat[['BsmtFin Type 2', 'BsmtFin Type 1', 'Mas Vnr Type']].fillna('None')"
   ]
  },
  {
   "cell_type": "code",
   "execution_count": 27,
   "id": "4e41d124",
   "metadata": {},
   "outputs": [
    {
     "data": {
      "text/html": [
       "<div>\n",
       "<style scoped>\n",
       "    .dataframe tbody tr th:only-of-type {\n",
       "        vertical-align: middle;\n",
       "    }\n",
       "\n",
       "    .dataframe tbody tr th {\n",
       "        vertical-align: top;\n",
       "    }\n",
       "\n",
       "    .dataframe thead th {\n",
       "        text-align: right;\n",
       "    }\n",
       "</style>\n",
       "<table border=\"1\" class=\"dataframe\">\n",
       "  <thead>\n",
       "    <tr style=\"text-align: right;\">\n",
       "      <th></th>\n",
       "      <th>missing_value_count</th>\n",
       "      <th>% of dataset</th>\n",
       "    </tr>\n",
       "  </thead>\n",
       "  <tbody>\n",
       "  </tbody>\n",
       "</table>\n",
       "</div>"
      ],
      "text/plain": [
       "Empty DataFrame\n",
       "Columns: [missing_value_count, % of dataset]\n",
       "Index: []"
      ]
     },
     "execution_count": 27,
     "metadata": {},
     "output_type": "execute_result"
    }
   ],
   "source": [
    "# Check Null values\n",
    "null_stats = pd.DataFrame(trainCat.isnull().sum(), columns = ['missing_value_count'])\n",
    "null_stats.loc[:,'% of dataset'] = np.round(null_stats.loc[:,'missing_value_count']/trainCat.shape[0]*100,2)\n",
    "null_stats.loc[null_stats.loc[:,'missing_value_count']>0,:].sort_values(by='missing_value_count',ascending=False)"
   ]
  },
  {
   "cell_type": "markdown",
   "id": "5a0e8e8a",
   "metadata": {},
   "source": [
    "### Numerical Values"
   ]
  },
  {
   "cell_type": "code",
   "execution_count": 28,
   "id": "6d83479b",
   "metadata": {},
   "outputs": [
    {
     "data": {
      "text/html": [
       "<div>\n",
       "<style scoped>\n",
       "    .dataframe tbody tr th:only-of-type {\n",
       "        vertical-align: middle;\n",
       "    }\n",
       "\n",
       "    .dataframe tbody tr th {\n",
       "        vertical-align: top;\n",
       "    }\n",
       "\n",
       "    .dataframe thead th {\n",
       "        text-align: right;\n",
       "    }\n",
       "</style>\n",
       "<table border=\"1\" class=\"dataframe\">\n",
       "  <thead>\n",
       "    <tr style=\"text-align: right;\">\n",
       "      <th></th>\n",
       "      <th>missing_value_count</th>\n",
       "      <th>% of dataset</th>\n",
       "    </tr>\n",
       "  </thead>\n",
       "  <tbody>\n",
       "    <tr>\n",
       "      <th>Lot Frontage</th>\n",
       "      <td>330</td>\n",
       "      <td>16.11</td>\n",
       "    </tr>\n",
       "    <tr>\n",
       "      <th>Mas Vnr Area</th>\n",
       "      <td>22</td>\n",
       "      <td>1.07</td>\n",
       "    </tr>\n",
       "  </tbody>\n",
       "</table>\n",
       "</div>"
      ],
      "text/plain": [
       "              missing_value_count  % of dataset\n",
       "Lot Frontage                  330         16.11\n",
       "Mas Vnr Area                   22          1.07"
      ]
     },
     "execution_count": 28,
     "metadata": {},
     "output_type": "execute_result"
    }
   ],
   "source": [
    "# Check Null values\n",
    "null_stats = pd.DataFrame(trainNum.isnull().sum(), columns = ['missing_value_count'])\n",
    "null_stats.loc[:,'% of dataset'] = np.round(null_stats.loc[:,'missing_value_count']/trainNum.shape[0]*100,2)\n",
    "null_stats.loc[null_stats.loc[:,'missing_value_count']>0,:].sort_values(by='missing_value_count',ascending=False)"
   ]
  },
  {
   "cell_type": "markdown",
   "id": "f044b598",
   "metadata": {},
   "source": [
    "Lot Frontage has 16.11% missing values. This is relatively high. If these values are removed it might skew the data and decrease the accuracy. These values, both Lot Frontage and Mas Vnr Area, will have its values replaced by its respective mean value."
   ]
  },
  {
   "cell_type": "code",
   "execution_count": 29,
   "id": "414b16bc",
   "metadata": {},
   "outputs": [],
   "source": [
    "# Fill missing values with mean\n",
    "# Lot Frontage\n",
    "trainNum['Lot Frontage'] = trainNum['Lot Frontage'].fillna(np.mean(trainNum['Lot Frontage']))\n",
    "# Mas Vnr Area\n",
    "trainNum['Mas Vnr Area'] = trainNum['Mas Vnr Area'].fillna(np.mean(trainNum['Mas Vnr Area']))\n"
   ]
  },
  {
   "cell_type": "code",
   "execution_count": 30,
   "id": "f799e899",
   "metadata": {
    "scrolled": true
   },
   "outputs": [
    {
     "data": {
      "text/html": [
       "<div>\n",
       "<style scoped>\n",
       "    .dataframe tbody tr th:only-of-type {\n",
       "        vertical-align: middle;\n",
       "    }\n",
       "\n",
       "    .dataframe tbody tr th {\n",
       "        vertical-align: top;\n",
       "    }\n",
       "\n",
       "    .dataframe thead th {\n",
       "        text-align: right;\n",
       "    }\n",
       "</style>\n",
       "<table border=\"1\" class=\"dataframe\">\n",
       "  <thead>\n",
       "    <tr style=\"text-align: right;\">\n",
       "      <th></th>\n",
       "      <th>missing_value_count</th>\n",
       "      <th>% of dataset</th>\n",
       "    </tr>\n",
       "  </thead>\n",
       "  <tbody>\n",
       "  </tbody>\n",
       "</table>\n",
       "</div>"
      ],
      "text/plain": [
       "Empty DataFrame\n",
       "Columns: [missing_value_count, % of dataset]\n",
       "Index: []"
      ]
     },
     "execution_count": 30,
     "metadata": {},
     "output_type": "execute_result"
    }
   ],
   "source": [
    "# Check Null values\n",
    "null_stats = pd.DataFrame(trainNum.isnull().sum(), columns = ['missing_value_count'])\n",
    "null_stats.loc[:,'% of dataset'] = np.round(null_stats.loc[:,'missing_value_count']/trainNum.shape[0]*100,2)\n",
    "null_stats.loc[null_stats.loc[:,'missing_value_count']>0,:].sort_values(by='missing_value_count',ascending=False)"
   ]
  },
  {
   "cell_type": "markdown",
   "id": "9f25e494",
   "metadata": {},
   "source": [
    "Both categorical and numerical data are now ready for the next part of the process. This will continue in Part 2. \n",
    "\n",
    "Both the data frames will continue to be split through the EDA and visualisation process as they would be analyse differently. "
   ]
  },
  {
   "cell_type": "code",
   "execution_count": 31,
   "id": "bed9feff",
   "metadata": {},
   "outputs": [],
   "source": [
    "# Save df as csv\n",
    "trainNum.to_csv('datasets/trainNum.csv', index=False)\n",
    "trainCat.to_csv('datasets/trainCat.csv', index=False)"
   ]
  },
  {
   "cell_type": "code",
   "execution_count": null,
   "id": "845cdbae",
   "metadata": {},
   "outputs": [],
   "source": []
  }
 ],
 "metadata": {
  "kernelspec": {
   "display_name": "Python 3 (ipykernel)",
   "language": "python",
   "name": "python3"
  },
  "language_info": {
   "codemirror_mode": {
    "name": "ipython",
    "version": 3
   },
   "file_extension": ".py",
   "mimetype": "text/x-python",
   "name": "python",
   "nbconvert_exporter": "python",
   "pygments_lexer": "ipython3",
   "version": "3.9.12"
  }
 },
 "nbformat": 4,
 "nbformat_minor": 5
}
